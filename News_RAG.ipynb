{
  "nbformat": 4,
  "nbformat_minor": 0,
  "metadata": {
    "colab": {
      "provenance": [],
      "authorship_tag": "ABX9TyP7G1GT3BXh9yyhV0NyV9sK",
      "include_colab_link": true
    },
    "kernelspec": {
      "name": "python3",
      "display_name": "Python 3"
    },
    "language_info": {
      "name": "python"
    }
  },
  "cells": [
    {
      "cell_type": "markdown",
      "metadata": {
        "id": "view-in-github",
        "colab_type": "text"
      },
      "source": [
        "<a href=\"https://colab.research.google.com/github/seunghyeon98/News_RAG/blob/main/News_RAG.ipynb\" target=\"_parent\"><img src=\"https://colab.research.google.com/assets/colab-badge.svg\" alt=\"Open In Colab\"/></a>"
      ]
    },
    {
      "cell_type": "code",
      "source": [
        "!pip install langchainhub\n",
        "!pip install langchain\n",
        "!pip install langchain_community\n",
        "!pip install langchain_openai\n",
        "!pip install --upgrade openai\n",
        "!pip install faiss-cpu\n",
        "!pip install langsmith\n",
        "!pip install -U langchain langchainhub langchain-openai\n"
      ],
      "metadata": {
        "colab": {
          "base_uri": "https://localhost:8080/"
        },
        "id": "xcmyITPu_fsS",
        "outputId": "a8f10a85-dae1-41f5-9cb9-a7ff908b82c6",
        "collapsed": true
      },
      "execution_count": 2,
      "outputs": [
        {
          "output_type": "stream",
          "name": "stdout",
          "text": [
            "Collecting langchainhub\n",
            "  Downloading langchainhub-0.1.17-py3-none-any.whl (4.8 kB)\n",
            "Requirement already satisfied: requests<3,>=2 in /usr/local/lib/python3.10/dist-packages (from langchainhub) (2.31.0)\n",
            "Collecting types-requests<3.0.0.0,>=2.31.0.2 (from langchainhub)\n",
            "  Downloading types_requests-2.32.0.20240523-py3-none-any.whl (15 kB)\n",
            "Requirement already satisfied: charset-normalizer<4,>=2 in /usr/local/lib/python3.10/dist-packages (from requests<3,>=2->langchainhub) (3.3.2)\n",
            "Requirement already satisfied: idna<4,>=2.5 in /usr/local/lib/python3.10/dist-packages (from requests<3,>=2->langchainhub) (3.7)\n",
            "Requirement already satisfied: urllib3<3,>=1.21.1 in /usr/local/lib/python3.10/dist-packages (from requests<3,>=2->langchainhub) (2.0.7)\n",
            "Requirement already satisfied: certifi>=2017.4.17 in /usr/local/lib/python3.10/dist-packages (from requests<3,>=2->langchainhub) (2024.2.2)\n",
            "Installing collected packages: types-requests, langchainhub\n",
            "Successfully installed langchainhub-0.1.17 types-requests-2.32.0.20240523\n",
            "Collecting langchain\n",
            "  Downloading langchain-0.2.1-py3-none-any.whl (973 kB)\n",
            "\u001b[2K     \u001b[90m━━━━━━━━━━━━━━━━━━━━━━━━━━━━━━━━━━━━━━━━\u001b[0m \u001b[32m973.5/973.5 kB\u001b[0m \u001b[31m13.4 MB/s\u001b[0m eta \u001b[36m0:00:00\u001b[0m\n",
            "\u001b[?25hRequirement already satisfied: PyYAML>=5.3 in /usr/local/lib/python3.10/dist-packages (from langchain) (6.0.1)\n",
            "Requirement already satisfied: SQLAlchemy<3,>=1.4 in /usr/local/lib/python3.10/dist-packages (from langchain) (2.0.30)\n",
            "Requirement already satisfied: aiohttp<4.0.0,>=3.8.3 in /usr/local/lib/python3.10/dist-packages (from langchain) (3.9.5)\n",
            "Requirement already satisfied: async-timeout<5.0.0,>=4.0.0 in /usr/local/lib/python3.10/dist-packages (from langchain) (4.0.3)\n",
            "Collecting langchain-core<0.3.0,>=0.2.0 (from langchain)\n",
            "  Downloading langchain_core-0.2.2-py3-none-any.whl (309 kB)\n",
            "\u001b[2K     \u001b[90m━━━━━━━━━━━━━━━━━━━━━━━━━━━━━━━━━━━━━━━━\u001b[0m \u001b[32m309.5/309.5 kB\u001b[0m \u001b[31m26.0 MB/s\u001b[0m eta \u001b[36m0:00:00\u001b[0m\n",
            "\u001b[?25hCollecting langchain-text-splitters<0.3.0,>=0.2.0 (from langchain)\n",
            "  Downloading langchain_text_splitters-0.2.0-py3-none-any.whl (23 kB)\n",
            "Collecting langsmith<0.2.0,>=0.1.17 (from langchain)\n",
            "  Downloading langsmith-0.1.63-py3-none-any.whl (122 kB)\n",
            "\u001b[2K     \u001b[90m━━━━━━━━━━━━━━━━━━━━━━━━━━━━━━━━━━━━━━━━\u001b[0m \u001b[32m122.8/122.8 kB\u001b[0m \u001b[31m11.5 MB/s\u001b[0m eta \u001b[36m0:00:00\u001b[0m\n",
            "\u001b[?25hRequirement already satisfied: numpy<2,>=1 in /usr/local/lib/python3.10/dist-packages (from langchain) (1.25.2)\n",
            "Requirement already satisfied: pydantic<3,>=1 in /usr/local/lib/python3.10/dist-packages (from langchain) (2.7.1)\n",
            "Requirement already satisfied: requests<3,>=2 in /usr/local/lib/python3.10/dist-packages (from langchain) (2.31.0)\n",
            "Requirement already satisfied: tenacity<9.0.0,>=8.1.0 in /usr/local/lib/python3.10/dist-packages (from langchain) (8.3.0)\n",
            "Requirement already satisfied: aiosignal>=1.1.2 in /usr/local/lib/python3.10/dist-packages (from aiohttp<4.0.0,>=3.8.3->langchain) (1.3.1)\n",
            "Requirement already satisfied: attrs>=17.3.0 in /usr/local/lib/python3.10/dist-packages (from aiohttp<4.0.0,>=3.8.3->langchain) (23.2.0)\n",
            "Requirement already satisfied: frozenlist>=1.1.1 in /usr/local/lib/python3.10/dist-packages (from aiohttp<4.0.0,>=3.8.3->langchain) (1.4.1)\n",
            "Requirement already satisfied: multidict<7.0,>=4.5 in /usr/local/lib/python3.10/dist-packages (from aiohttp<4.0.0,>=3.8.3->langchain) (6.0.5)\n",
            "Requirement already satisfied: yarl<2.0,>=1.0 in /usr/local/lib/python3.10/dist-packages (from aiohttp<4.0.0,>=3.8.3->langchain) (1.9.4)\n",
            "Collecting jsonpatch<2.0,>=1.33 (from langchain-core<0.3.0,>=0.2.0->langchain)\n",
            "  Downloading jsonpatch-1.33-py2.py3-none-any.whl (12 kB)\n",
            "Collecting packaging<24.0,>=23.2 (from langchain-core<0.3.0,>=0.2.0->langchain)\n",
            "  Downloading packaging-23.2-py3-none-any.whl (53 kB)\n",
            "\u001b[2K     \u001b[90m━━━━━━━━━━━━━━━━━━━━━━━━━━━━━━━━━━━━━━━━\u001b[0m \u001b[32m53.0/53.0 kB\u001b[0m \u001b[31m4.2 MB/s\u001b[0m eta \u001b[36m0:00:00\u001b[0m\n",
            "\u001b[?25hCollecting orjson<4.0.0,>=3.9.14 (from langsmith<0.2.0,>=0.1.17->langchain)\n",
            "  Downloading orjson-3.10.3-cp310-cp310-manylinux_2_17_x86_64.manylinux2014_x86_64.whl (142 kB)\n",
            "\u001b[2K     \u001b[90m━━━━━━━━━━━━━━━━━━━━━━━━━━━━━━━━━━━━━━━━\u001b[0m \u001b[32m142.5/142.5 kB\u001b[0m \u001b[31m14.2 MB/s\u001b[0m eta \u001b[36m0:00:00\u001b[0m\n",
            "\u001b[?25hRequirement already satisfied: annotated-types>=0.4.0 in /usr/local/lib/python3.10/dist-packages (from pydantic<3,>=1->langchain) (0.7.0)\n",
            "Requirement already satisfied: pydantic-core==2.18.2 in /usr/local/lib/python3.10/dist-packages (from pydantic<3,>=1->langchain) (2.18.2)\n",
            "Requirement already satisfied: typing-extensions>=4.6.1 in /usr/local/lib/python3.10/dist-packages (from pydantic<3,>=1->langchain) (4.11.0)\n",
            "Requirement already satisfied: charset-normalizer<4,>=2 in /usr/local/lib/python3.10/dist-packages (from requests<3,>=2->langchain) (3.3.2)\n",
            "Requirement already satisfied: idna<4,>=2.5 in /usr/local/lib/python3.10/dist-packages (from requests<3,>=2->langchain) (3.7)\n",
            "Requirement already satisfied: urllib3<3,>=1.21.1 in /usr/local/lib/python3.10/dist-packages (from requests<3,>=2->langchain) (2.0.7)\n",
            "Requirement already satisfied: certifi>=2017.4.17 in /usr/local/lib/python3.10/dist-packages (from requests<3,>=2->langchain) (2024.2.2)\n",
            "Requirement already satisfied: greenlet!=0.4.17 in /usr/local/lib/python3.10/dist-packages (from SQLAlchemy<3,>=1.4->langchain) (3.0.3)\n",
            "Collecting jsonpointer>=1.9 (from jsonpatch<2.0,>=1.33->langchain-core<0.3.0,>=0.2.0->langchain)\n",
            "  Downloading jsonpointer-2.4-py2.py3-none-any.whl (7.8 kB)\n",
            "Installing collected packages: packaging, orjson, jsonpointer, jsonpatch, langsmith, langchain-core, langchain-text-splitters, langchain\n",
            "  Attempting uninstall: packaging\n",
            "    Found existing installation: packaging 24.0\n",
            "    Uninstalling packaging-24.0:\n",
            "      Successfully uninstalled packaging-24.0\n",
            "Successfully installed jsonpatch-1.33 jsonpointer-2.4 langchain-0.2.1 langchain-core-0.2.2 langchain-text-splitters-0.2.0 langsmith-0.1.63 orjson-3.10.3 packaging-23.2\n",
            "Collecting langchain_community\n",
            "  Downloading langchain_community-0.2.1-py3-none-any.whl (2.1 MB)\n",
            "\u001b[2K     \u001b[90m━━━━━━━━━━━━━━━━━━━━━━━━━━━━━━━━━━━━━━━━\u001b[0m \u001b[32m2.1/2.1 MB\u001b[0m \u001b[31m23.8 MB/s\u001b[0m eta \u001b[36m0:00:00\u001b[0m\n",
            "\u001b[?25hRequirement already satisfied: PyYAML>=5.3 in /usr/local/lib/python3.10/dist-packages (from langchain_community) (6.0.1)\n",
            "Requirement already satisfied: SQLAlchemy<3,>=1.4 in /usr/local/lib/python3.10/dist-packages (from langchain_community) (2.0.30)\n",
            "Requirement already satisfied: aiohttp<4.0.0,>=3.8.3 in /usr/local/lib/python3.10/dist-packages (from langchain_community) (3.9.5)\n",
            "Collecting dataclasses-json<0.7,>=0.5.7 (from langchain_community)\n",
            "  Downloading dataclasses_json-0.6.6-py3-none-any.whl (28 kB)\n",
            "Requirement already satisfied: langchain<0.3.0,>=0.2.0 in /usr/local/lib/python3.10/dist-packages (from langchain_community) (0.2.1)\n",
            "Requirement already satisfied: langchain-core<0.3.0,>=0.2.0 in /usr/local/lib/python3.10/dist-packages (from langchain_community) (0.2.2)\n",
            "Requirement already satisfied: langsmith<0.2.0,>=0.1.0 in /usr/local/lib/python3.10/dist-packages (from langchain_community) (0.1.63)\n",
            "Requirement already satisfied: numpy<2,>=1 in /usr/local/lib/python3.10/dist-packages (from langchain_community) (1.25.2)\n",
            "Requirement already satisfied: requests<3,>=2 in /usr/local/lib/python3.10/dist-packages (from langchain_community) (2.31.0)\n",
            "Requirement already satisfied: tenacity<9.0.0,>=8.1.0 in /usr/local/lib/python3.10/dist-packages (from langchain_community) (8.3.0)\n",
            "Requirement already satisfied: aiosignal>=1.1.2 in /usr/local/lib/python3.10/dist-packages (from aiohttp<4.0.0,>=3.8.3->langchain_community) (1.3.1)\n",
            "Requirement already satisfied: attrs>=17.3.0 in /usr/local/lib/python3.10/dist-packages (from aiohttp<4.0.0,>=3.8.3->langchain_community) (23.2.0)\n",
            "Requirement already satisfied: frozenlist>=1.1.1 in /usr/local/lib/python3.10/dist-packages (from aiohttp<4.0.0,>=3.8.3->langchain_community) (1.4.1)\n",
            "Requirement already satisfied: multidict<7.0,>=4.5 in /usr/local/lib/python3.10/dist-packages (from aiohttp<4.0.0,>=3.8.3->langchain_community) (6.0.5)\n",
            "Requirement already satisfied: yarl<2.0,>=1.0 in /usr/local/lib/python3.10/dist-packages (from aiohttp<4.0.0,>=3.8.3->langchain_community) (1.9.4)\n",
            "Requirement already satisfied: async-timeout<5.0,>=4.0 in /usr/local/lib/python3.10/dist-packages (from aiohttp<4.0.0,>=3.8.3->langchain_community) (4.0.3)\n",
            "Collecting marshmallow<4.0.0,>=3.18.0 (from dataclasses-json<0.7,>=0.5.7->langchain_community)\n",
            "  Downloading marshmallow-3.21.2-py3-none-any.whl (49 kB)\n",
            "\u001b[2K     \u001b[90m━━━━━━━━━━━━━━━━━━━━━━━━━━━━━━━━━━━━━━━━\u001b[0m \u001b[32m49.3/49.3 kB\u001b[0m \u001b[31m3.9 MB/s\u001b[0m eta \u001b[36m0:00:00\u001b[0m\n",
            "\u001b[?25hCollecting typing-inspect<1,>=0.4.0 (from dataclasses-json<0.7,>=0.5.7->langchain_community)\n",
            "  Downloading typing_inspect-0.9.0-py3-none-any.whl (8.8 kB)\n",
            "Requirement already satisfied: langchain-text-splitters<0.3.0,>=0.2.0 in /usr/local/lib/python3.10/dist-packages (from langchain<0.3.0,>=0.2.0->langchain_community) (0.2.0)\n",
            "Requirement already satisfied: pydantic<3,>=1 in /usr/local/lib/python3.10/dist-packages (from langchain<0.3.0,>=0.2.0->langchain_community) (2.7.1)\n",
            "Requirement already satisfied: jsonpatch<2.0,>=1.33 in /usr/local/lib/python3.10/dist-packages (from langchain-core<0.3.0,>=0.2.0->langchain_community) (1.33)\n",
            "Requirement already satisfied: packaging<24.0,>=23.2 in /usr/local/lib/python3.10/dist-packages (from langchain-core<0.3.0,>=0.2.0->langchain_community) (23.2)\n",
            "Requirement already satisfied: orjson<4.0.0,>=3.9.14 in /usr/local/lib/python3.10/dist-packages (from langsmith<0.2.0,>=0.1.0->langchain_community) (3.10.3)\n",
            "Requirement already satisfied: charset-normalizer<4,>=2 in /usr/local/lib/python3.10/dist-packages (from requests<3,>=2->langchain_community) (3.3.2)\n",
            "Requirement already satisfied: idna<4,>=2.5 in /usr/local/lib/python3.10/dist-packages (from requests<3,>=2->langchain_community) (3.7)\n",
            "Requirement already satisfied: urllib3<3,>=1.21.1 in /usr/local/lib/python3.10/dist-packages (from requests<3,>=2->langchain_community) (2.0.7)\n",
            "Requirement already satisfied: certifi>=2017.4.17 in /usr/local/lib/python3.10/dist-packages (from requests<3,>=2->langchain_community) (2024.2.2)\n",
            "Requirement already satisfied: typing-extensions>=4.6.0 in /usr/local/lib/python3.10/dist-packages (from SQLAlchemy<3,>=1.4->langchain_community) (4.11.0)\n",
            "Requirement already satisfied: greenlet!=0.4.17 in /usr/local/lib/python3.10/dist-packages (from SQLAlchemy<3,>=1.4->langchain_community) (3.0.3)\n",
            "Requirement already satisfied: jsonpointer>=1.9 in /usr/local/lib/python3.10/dist-packages (from jsonpatch<2.0,>=1.33->langchain-core<0.3.0,>=0.2.0->langchain_community) (2.4)\n",
            "Requirement already satisfied: annotated-types>=0.4.0 in /usr/local/lib/python3.10/dist-packages (from pydantic<3,>=1->langchain<0.3.0,>=0.2.0->langchain_community) (0.7.0)\n",
            "Requirement already satisfied: pydantic-core==2.18.2 in /usr/local/lib/python3.10/dist-packages (from pydantic<3,>=1->langchain<0.3.0,>=0.2.0->langchain_community) (2.18.2)\n",
            "Collecting mypy-extensions>=0.3.0 (from typing-inspect<1,>=0.4.0->dataclasses-json<0.7,>=0.5.7->langchain_community)\n",
            "  Downloading mypy_extensions-1.0.0-py3-none-any.whl (4.7 kB)\n",
            "Installing collected packages: mypy-extensions, marshmallow, typing-inspect, dataclasses-json, langchain_community\n",
            "Successfully installed dataclasses-json-0.6.6 langchain_community-0.2.1 marshmallow-3.21.2 mypy-extensions-1.0.0 typing-inspect-0.9.0\n",
            "Collecting langchain_openai\n",
            "  Downloading langchain_openai-0.1.8-py3-none-any.whl (38 kB)\n",
            "Requirement already satisfied: langchain-core<0.3,>=0.2.2 in /usr/local/lib/python3.10/dist-packages (from langchain_openai) (0.2.2)\n",
            "Collecting openai<2.0.0,>=1.26.0 (from langchain_openai)\n",
            "  Downloading openai-1.30.4-py3-none-any.whl (320 kB)\n",
            "\u001b[2K     \u001b[90m━━━━━━━━━━━━━━━━━━━━━━━━━━━━━━━━━━━━━━━━\u001b[0m \u001b[32m320.6/320.6 kB\u001b[0m \u001b[31m5.5 MB/s\u001b[0m eta \u001b[36m0:00:00\u001b[0m\n",
            "\u001b[?25hCollecting tiktoken<1,>=0.7 (from langchain_openai)\n",
            "  Downloading tiktoken-0.7.0-cp310-cp310-manylinux_2_17_x86_64.manylinux2014_x86_64.whl (1.1 MB)\n",
            "\u001b[2K     \u001b[90m━━━━━━━━━━━━━━━━━━━━━━━━━━━━━━━━━━━━━━━━\u001b[0m \u001b[32m1.1/1.1 MB\u001b[0m \u001b[31m8.4 MB/s\u001b[0m eta \u001b[36m0:00:00\u001b[0m\n",
            "\u001b[?25hRequirement already satisfied: PyYAML>=5.3 in /usr/local/lib/python3.10/dist-packages (from langchain-core<0.3,>=0.2.2->langchain_openai) (6.0.1)\n",
            "Requirement already satisfied: jsonpatch<2.0,>=1.33 in /usr/local/lib/python3.10/dist-packages (from langchain-core<0.3,>=0.2.2->langchain_openai) (1.33)\n",
            "Requirement already satisfied: langsmith<0.2.0,>=0.1.0 in /usr/local/lib/python3.10/dist-packages (from langchain-core<0.3,>=0.2.2->langchain_openai) (0.1.63)\n",
            "Requirement already satisfied: packaging<24.0,>=23.2 in /usr/local/lib/python3.10/dist-packages (from langchain-core<0.3,>=0.2.2->langchain_openai) (23.2)\n",
            "Requirement already satisfied: pydantic<3,>=1 in /usr/local/lib/python3.10/dist-packages (from langchain-core<0.3,>=0.2.2->langchain_openai) (2.7.1)\n",
            "Requirement already satisfied: tenacity<9.0.0,>=8.1.0 in /usr/local/lib/python3.10/dist-packages (from langchain-core<0.3,>=0.2.2->langchain_openai) (8.3.0)\n",
            "Requirement already satisfied: anyio<5,>=3.5.0 in /usr/local/lib/python3.10/dist-packages (from openai<2.0.0,>=1.26.0->langchain_openai) (3.7.1)\n",
            "Requirement already satisfied: distro<2,>=1.7.0 in /usr/lib/python3/dist-packages (from openai<2.0.0,>=1.26.0->langchain_openai) (1.7.0)\n",
            "Collecting httpx<1,>=0.23.0 (from openai<2.0.0,>=1.26.0->langchain_openai)\n",
            "  Downloading httpx-0.27.0-py3-none-any.whl (75 kB)\n",
            "\u001b[2K     \u001b[90m━━━━━━━━━━━━━━━━━━━━━━━━━━━━━━━━━━━━━━━━\u001b[0m \u001b[32m75.6/75.6 kB\u001b[0m \u001b[31m8.5 MB/s\u001b[0m eta \u001b[36m0:00:00\u001b[0m\n",
            "\u001b[?25hRequirement already satisfied: sniffio in /usr/local/lib/python3.10/dist-packages (from openai<2.0.0,>=1.26.0->langchain_openai) (1.3.1)\n",
            "Requirement already satisfied: tqdm>4 in /usr/local/lib/python3.10/dist-packages (from openai<2.0.0,>=1.26.0->langchain_openai) (4.66.4)\n",
            "Requirement already satisfied: typing-extensions<5,>=4.7 in /usr/local/lib/python3.10/dist-packages (from openai<2.0.0,>=1.26.0->langchain_openai) (4.11.0)\n",
            "Requirement already satisfied: regex>=2022.1.18 in /usr/local/lib/python3.10/dist-packages (from tiktoken<1,>=0.7->langchain_openai) (2024.5.15)\n",
            "Requirement already satisfied: requests>=2.26.0 in /usr/local/lib/python3.10/dist-packages (from tiktoken<1,>=0.7->langchain_openai) (2.31.0)\n",
            "Requirement already satisfied: idna>=2.8 in /usr/local/lib/python3.10/dist-packages (from anyio<5,>=3.5.0->openai<2.0.0,>=1.26.0->langchain_openai) (3.7)\n",
            "Requirement already satisfied: exceptiongroup in /usr/local/lib/python3.10/dist-packages (from anyio<5,>=3.5.0->openai<2.0.0,>=1.26.0->langchain_openai) (1.2.1)\n",
            "Requirement already satisfied: certifi in /usr/local/lib/python3.10/dist-packages (from httpx<1,>=0.23.0->openai<2.0.0,>=1.26.0->langchain_openai) (2024.2.2)\n",
            "Collecting httpcore==1.* (from httpx<1,>=0.23.0->openai<2.0.0,>=1.26.0->langchain_openai)\n",
            "  Downloading httpcore-1.0.5-py3-none-any.whl (77 kB)\n",
            "\u001b[2K     \u001b[90m━━━━━━━━━━━━━━━━━━━━━━━━━━━━━━━━━━━━━━━━\u001b[0m \u001b[32m77.9/77.9 kB\u001b[0m \u001b[31m8.1 MB/s\u001b[0m eta \u001b[36m0:00:00\u001b[0m\n",
            "\u001b[?25hCollecting h11<0.15,>=0.13 (from httpcore==1.*->httpx<1,>=0.23.0->openai<2.0.0,>=1.26.0->langchain_openai)\n",
            "  Downloading h11-0.14.0-py3-none-any.whl (58 kB)\n",
            "\u001b[2K     \u001b[90m━━━━━━━━━━━━━━━━━━━━━━━━━━━━━━━━━━━━━━━━\u001b[0m \u001b[32m58.3/58.3 kB\u001b[0m \u001b[31m4.1 MB/s\u001b[0m eta \u001b[36m0:00:00\u001b[0m\n",
            "\u001b[?25hRequirement already satisfied: jsonpointer>=1.9 in /usr/local/lib/python3.10/dist-packages (from jsonpatch<2.0,>=1.33->langchain-core<0.3,>=0.2.2->langchain_openai) (2.4)\n",
            "Requirement already satisfied: orjson<4.0.0,>=3.9.14 in /usr/local/lib/python3.10/dist-packages (from langsmith<0.2.0,>=0.1.0->langchain-core<0.3,>=0.2.2->langchain_openai) (3.10.3)\n",
            "Requirement already satisfied: annotated-types>=0.4.0 in /usr/local/lib/python3.10/dist-packages (from pydantic<3,>=1->langchain-core<0.3,>=0.2.2->langchain_openai) (0.7.0)\n",
            "Requirement already satisfied: pydantic-core==2.18.2 in /usr/local/lib/python3.10/dist-packages (from pydantic<3,>=1->langchain-core<0.3,>=0.2.2->langchain_openai) (2.18.2)\n",
            "Requirement already satisfied: charset-normalizer<4,>=2 in /usr/local/lib/python3.10/dist-packages (from requests>=2.26.0->tiktoken<1,>=0.7->langchain_openai) (3.3.2)\n",
            "Requirement already satisfied: urllib3<3,>=1.21.1 in /usr/local/lib/python3.10/dist-packages (from requests>=2.26.0->tiktoken<1,>=0.7->langchain_openai) (2.0.7)\n",
            "Installing collected packages: h11, tiktoken, httpcore, httpx, openai, langchain_openai\n",
            "Successfully installed h11-0.14.0 httpcore-1.0.5 httpx-0.27.0 langchain_openai-0.1.8 openai-1.30.4 tiktoken-0.7.0\n",
            "Requirement already satisfied: openai in /usr/local/lib/python3.10/dist-packages (1.30.4)\n",
            "Requirement already satisfied: anyio<5,>=3.5.0 in /usr/local/lib/python3.10/dist-packages (from openai) (3.7.1)\n",
            "Requirement already satisfied: distro<2,>=1.7.0 in /usr/lib/python3/dist-packages (from openai) (1.7.0)\n",
            "Requirement already satisfied: httpx<1,>=0.23.0 in /usr/local/lib/python3.10/dist-packages (from openai) (0.27.0)\n",
            "Requirement already satisfied: pydantic<3,>=1.9.0 in /usr/local/lib/python3.10/dist-packages (from openai) (2.7.1)\n",
            "Requirement already satisfied: sniffio in /usr/local/lib/python3.10/dist-packages (from openai) (1.3.1)\n",
            "Requirement already satisfied: tqdm>4 in /usr/local/lib/python3.10/dist-packages (from openai) (4.66.4)\n",
            "Requirement already satisfied: typing-extensions<5,>=4.7 in /usr/local/lib/python3.10/dist-packages (from openai) (4.11.0)\n",
            "Requirement already satisfied: idna>=2.8 in /usr/local/lib/python3.10/dist-packages (from anyio<5,>=3.5.0->openai) (3.7)\n",
            "Requirement already satisfied: exceptiongroup in /usr/local/lib/python3.10/dist-packages (from anyio<5,>=3.5.0->openai) (1.2.1)\n",
            "Requirement already satisfied: certifi in /usr/local/lib/python3.10/dist-packages (from httpx<1,>=0.23.0->openai) (2024.2.2)\n",
            "Requirement already satisfied: httpcore==1.* in /usr/local/lib/python3.10/dist-packages (from httpx<1,>=0.23.0->openai) (1.0.5)\n",
            "Requirement already satisfied: h11<0.15,>=0.13 in /usr/local/lib/python3.10/dist-packages (from httpcore==1.*->httpx<1,>=0.23.0->openai) (0.14.0)\n",
            "Requirement already satisfied: annotated-types>=0.4.0 in /usr/local/lib/python3.10/dist-packages (from pydantic<3,>=1.9.0->openai) (0.7.0)\n",
            "Requirement already satisfied: pydantic-core==2.18.2 in /usr/local/lib/python3.10/dist-packages (from pydantic<3,>=1.9.0->openai) (2.18.2)\n",
            "Collecting faiss-cpu\n",
            "  Downloading faiss_cpu-1.8.0-cp310-cp310-manylinux_2_17_x86_64.manylinux2014_x86_64.whl (27.0 MB)\n",
            "\u001b[2K     \u001b[90m━━━━━━━━━━━━━━━━━━━━━━━━━━━━━━━━━━━━━━━━\u001b[0m \u001b[32m27.0/27.0 MB\u001b[0m \u001b[31m17.6 MB/s\u001b[0m eta \u001b[36m0:00:00\u001b[0m\n",
            "\u001b[?25hRequirement already satisfied: numpy in /usr/local/lib/python3.10/dist-packages (from faiss-cpu) (1.25.2)\n",
            "Installing collected packages: faiss-cpu\n",
            "Successfully installed faiss-cpu-1.8.0\n"
          ]
        }
      ]
    },
    {
      "cell_type": "code",
      "source": [
        "import os\n",
        "\n",
        "os.environ[\"OPENAI_API_KEY\"] = \"key\"\n",
        "# LangChain Hub API 키 설정\n",
        "os.environ[\"LANGCHAIN_HUB_API_KEY\"] = \"key\"\n",
        "os.environ['LANGCHAIN_API_KEY'] = 'key'\n",
        "os.environ['LANGCHAIN_TRACING_V2'] = 'true'\n",
        "# LangChain Hub의 프로젝트 설정\n",
        "os.environ['LANGCHAIN_PROJECT'] = 'News-Rag'"
      ],
      "metadata": {
        "id": "mTkCnohBjhBd"
      },
      "execution_count": 22,
      "outputs": []
    },
    {
      "cell_type": "code",
      "source": [
        "# lang chain hub에 prompt push\n",
        "from langchain import hub\n",
        "from langchain.prompts.chat import ChatPromptTemplate\n",
        "\n",
        "# prompt = ChatPromptTemplate.from_template(input_template)\n",
        "# havi_rag repo에 prompt push\n",
        "# hub.push(\"havi_rag\", prompt, new_repo_is_public=False)"
      ],
      "metadata": {
        "id": "cjGzdJVMkKQg"
      },
      "execution_count": 9,
      "outputs": []
    },
    {
      "cell_type": "code",
      "source": [
        "\n",
        "import bs4\n",
        "from langchain import hub\n",
        "from langchain.text_splitter import RecursiveCharacterTextSplitter\n",
        "from langchain_community.document_loaders import WebBaseLoader\n",
        "from langchain_community.vectorstores import FAISS\n",
        "from langchain_core.output_parsers import StrOutputParser\n",
        "from langchain_core.runnables import RunnablePassthrough\n",
        "from langchain_openai import ChatOpenAI, OpenAIEmbeddings\n",
        "\n",
        "from langchain.retrievers.multi_query import MultiQueryRetriever"
      ],
      "metadata": {
        "id": "_UQ_tL3w88qx"
      },
      "execution_count": 10,
      "outputs": []
    },
    {
      "cell_type": "code",
      "source": [],
      "metadata": {
        "id": "br-vY7zuBnRr"
      },
      "execution_count": null,
      "outputs": []
    },
    {
      "cell_type": "markdown",
      "source": [
        "# Text 로드 및 청킹"
      ],
      "metadata": {
        "id": "4tG-HXDt3FxM"
      }
    },
    {
      "cell_type": "code",
      "source": [
        "# 뉴스기사 내용을 로드하고, 청크로 나누고, 인덱싱\n",
        "loader = WebBaseLoader(\n",
        "    web_paths=(\"https://n.news.naver.com/article/005/0001699583?ntype=RANKING\",),\n",
        "    bs_kwargs=dict(\n",
        "        parse_only=bs4.SoupStrainer(\n",
        "            \"div\",\n",
        "            attrs={\"class\": [\"newsct_article _article_body\",\n",
        "                             \"media_end_head_title\"]},\n",
        "        )\n",
        "    ),\n",
        ")\n",
        "\n",
        "docs = loader.load()\n",
        "print(f\"문서의 수: {len(docs)}\")\n",
        "docs"
      ],
      "metadata": {
        "colab": {
          "base_uri": "https://localhost:8080/"
        },
        "id": "XGWzeh--8_IB",
        "outputId": "d457cbac-016e-4b58-eecf-5b69d1acade8"
      },
      "execution_count": 11,
      "outputs": [
        {
          "output_type": "stream",
          "name": "stdout",
          "text": [
            "문서의 수: 1\n"
          ]
        },
        {
          "output_type": "execute_result",
          "data": {
            "text/plain": [
              "[Document(page_content=\"\\n18평 서울 아파트 ‘20년 전세’… 신혼부부 ‘파격 정책’\\n\\n\\n올림픽파크포레온 300가구 시작공공임대주택 4396호 공급 추진무자녀 신혼부부도 입주 가능\\n\\n\\n\\n서울시가 임대주택으로 공급하는 강동구 둔촌동 '올림픽파크포레온' 전용 59㎡ A타입 주택 평면도. 올림픽파크포레온 제공서울시가 신혼부부 주거 부담을 해소하기 위해 장기전세주택 등 임대주택을 4000가구 이상 공급한다. 약 60㎡(약 18.15평·전용면적 기준) 크기 공공주택을 최장 20년간 전세로 사용할 수 있다. 자녀를 2명 이상 낳으면 시세에 비해 저렴하게 집을 매수할 권리인 ‘우선매수청구권’도 부여한다.신혼부부 위한 ‘20년 전세’… 무자녀도 가능 서울시는 29일 ‘저출생 대응 신혼부부 주택 확대방안’을 발표했다. 신혼부부를 위한 ‘장기전세주택 2’와 신혼부부 맞춤형 주거공간인 ‘신혼부부 안심주택’을 공급하는 내용으로, 올해부터 3년간 신혼부부에게 총 4396호의 공공주택을 공급하는 게 골자다.장기전세주택은 오세훈 시장이 재임 중이던 2007년 도입된 정책이다. 주변 전세 시세의 80% 이하 가격으로 최장 20년간 거주 가능한 임대주택이다. 기존에는 무자녀 신혼부부도 입주를 신청할 수 있었지만, 다자녀 가구에 우선권이 있어 출산하지 않은 이들은 입주가 사실상 불가능했다.장기전세주택 2는 기존 정책에서 무자녀 신혼부부에게 입주 기회를 확대하는 방향으로 재설계됐다. 결혼만 해도 기본 10년간 장기전세를 살 수 있고, 아이를 낳을 때마다 인센티브가 부여된다. 1자녀를 출산하면 재계약 시 소득 기준을 20% 완화해주고, 2자녀 이상 출산하면 전세로 살고 있는 집을 구매할 수 있는 ‘우선매수청구권’을 부여하는 식이다. 한 명이라도 자녀를 낳으면 계약기간이 최장 20년으로 늘어난다.\\n\\n\\n\\n장기전세주택 2 정책 개요. 서울시 제공‘올림픽파크포레온’ 300가구 우선공급입주 자격은 무주택 세대원으로 구성된 신혼부부다. 혼인신고일로부터 7년 이내 또는 6개월 이내 혼인신고 예정이면 가능하다.서울시는 우선 오는 7월 서울 강동구 둔촌동의 ‘올림픽파크포레온’ 300가구를 장기전세주택으로 공급한다. 다음해 상반기 188가구, 하반기 450가구 등이 추가 공급된다. 장기전세주택 2 계획 물량(2396가구) 중 구룡마을(300가구) 성뒤마을(175가구) 장지차고지(154가구) 등 공공부지를 활용한 건설형 공급 물량은 927가구다.전용 60㎡ 이하 공공임대주택을 신청하기 위한 소득 기준은 도시근로자 가구당 월평균 소득 120% 이하(2인 기준 649만원)로 완화됐다. 기존 자격은 100%였다. 전용 60㎡ 이상 임대주택 소득 기준은 도시근로자 월평균소득 150%다. 이 역시 기존 120%에서 완화됐다.가격은 시세의 50%… 최고급 가전까지 서울시는 신혼부부를 위한 새로운 임대주택 모델인 ‘신혼부부 안심주택’도 도입한다. 결혼 7년 이내인 신혼부부와 결혼 예정 예비부부가 대상이다. 70%는 임대, 30%는 분양주택이다. 민간 임대주택은 주변 시세의 70~85%로, 공공임대주택은 50% 수준으로 공급된다.이 주택에는 신혼부부 맞춤형 공간과 서비스가 제공된다. 알파룸·자녀방 등 구조를 갖췄고, 냉장고·에어컨 등 고급 빌트인 가전이 설치된다. 또 위치는 역세권 350m 이내 또는 간선도로변 50m 이내에 건립된다. 면적은 44~60㎡다.오 시장은 “기존엔 자녀 수가 많아야 공공주택에 입주하기 유리했지만 이제는 자녀 없이도 공공주택에 입주할 수 있다”며 “입주 후 자녀를 출산하면 20년까지 거주할 수 있게 되고 두 자녀 이상 출산하면 내집마련의 기회도 생긴다. 장기전세주택2와 신혼부부용 안심주택을 합해 연평균 4000가구 정도씩 꾸준히 공급을 하게 되면 전체 신혼부부의 필요 물량의 한 10% 정도를 감당할 수 있게 될 것”이라고 설명했다.\\n\\t\\t\\n\", metadata={'source': 'https://n.news.naver.com/article/005/0001699583?ntype=RANKING'})]"
            ]
          },
          "metadata": {},
          "execution_count": 11
        }
      ]
    },
    {
      "cell_type": "code",
      "source": [
        "# chunk size, chunk overlap 값 설정에 대하여\n",
        "\n",
        "# 정보의 연속성: 뉴스 기사는 문맥의 연속성이 중요합니다. 너무 작은 청크로 나누면 문맥이 손실될 수 있고, 너무 큰 청크는 모델의 입력 한계를 초과할 수 있다.\n",
        "\n",
        "# chunk_size: 모델의 최대 입력 길이를 고려하여 적당한 크기로 설정,  예를 들어, 2048 토큰을 기준으로 하면 청크 크기를 1000-1500 글자 정도로 설정하는 것이 좋다.\n",
        "# chunk_overlap: 청크 간에 문맥이 유지되도록 중첩 부분을 설정, 일반적으로 10-20% 정도의 중첩을 설정.\n",
        "# 예를 들어, chunk_size를 1000으로 설정한 경우, chunk_overlap을 100-200 정도로 설정할 수 있다.\n",
        "text_splitter = RecursiveCharacterTextSplitter(chunk_size=1000, chunk_overlap=100)\n",
        "\n",
        "splits = text_splitter.split_documents(docs)\n",
        "len(splits)"
      ],
      "metadata": {
        "colab": {
          "base_uri": "https://localhost:8080/"
        },
        "id": "K-Z4dI6y9b0h",
        "outputId": "4cb238cd-746d-41ff-dcd5-487e46b06f24"
      },
      "execution_count": 12,
      "outputs": [
        {
          "output_type": "execute_result",
          "data": {
            "text/plain": [
              "2"
            ]
          },
          "metadata": {},
          "execution_count": 12
        }
      ]
    },
    {
      "cell_type": "markdown",
      "source": [
        "# Vector DB 설정"
      ],
      "metadata": {
        "id": "9z_mUYkz3JR7"
      }
    },
    {
      "cell_type": "code",
      "source": [
        "\n",
        "\n",
        "\n",
        "from langchain_community.embeddings import OpenAIEmbeddings\n",
        "openai = OpenAIEmbeddings(openai_api_key=openai_api_key)\n",
        "\n",
        "# Faiss를 통해 벡터DB 설정\n",
        "vectorstore = FAISS.from_documents(documents=splits, embedding=openai)\n",
        "\n",
        "# Faiss를 통해 리트리버 생성\n",
        "retriever = vectorstore.as_retriever()\n",
        "\n",
        "\n"
      ],
      "metadata": {
        "id": "E8WN8mAx9dig",
        "colab": {
          "base_uri": "https://localhost:8080/"
        },
        "outputId": "4e845e24-7b05-4df8-a6cc-918bca8dbc8b"
      },
      "execution_count": 13,
      "outputs": [
        {
          "output_type": "stream",
          "name": "stderr",
          "text": [
            "/usr/local/lib/python3.10/dist-packages/langchain_core/_api/deprecation.py:119: LangChainDeprecationWarning: The class `OpenAIEmbeddings` was deprecated in LangChain 0.0.9 and will be removed in 0.3.0. An updated version of the class exists in the langchain-openai package and should be used instead. To use it run `pip install -U langchain-openai` and import as `from langchain_openai import OpenAIEmbeddings`.\n",
            "  warn_deprecated(\n"
          ]
        }
      ]
    },
    {
      "cell_type": "markdown",
      "source": [
        "# Prompt Load\n",
        "\n",
        "RAG를 통해 검색 및 응답을 받을때, 다음과 같은 Prompt를 설정하여 정확하고 간결한 정보를 제공받을 수 있게 설정한다.\n",
        "\n"
      ],
      "metadata": {
        "id": "MlqtsvQz3NmT"
      }
    },
    {
      "cell_type": "code",
      "source": [
        "# 나의 langchain hub의 Prompt 불러오기\n",
        "prompt = hub.pull(\"havi_rag\")\n",
        "prompt"
      ],
      "metadata": {
        "colab": {
          "base_uri": "https://localhost:8080/"
        },
        "id": "X9P7sc299duw",
        "outputId": "9887448f-a23f-4099-d6db-c8d2915eec83"
      },
      "execution_count": 14,
      "outputs": [
        {
          "output_type": "execute_result",
          "data": {
            "text/plain": [
              "ChatPromptTemplate(input_variables=['context', 'question'], metadata={'lc_hub_owner': '-', 'lc_hub_repo': 'havi_rag', 'lc_hub_commit_hash': '26f335ae9d0e8a97462ac6bb7c244a54935bf5cbcbf3ffd1746dc6f1915753f4'}, messages=[HumanMessagePromptTemplate(prompt=PromptTemplate(input_variables=['context', 'question'], template=\"You are an assistant for question-answering tasks. Use the following pieces of retrieved context to answer the question. If you don't know the answer, just say that you don't know. Use three sentences maximum and keep the answer concise.\\nQuestion: {question} \\nContext: {context} \\nAnswer:\"))])"
            ]
          },
          "metadata": {},
          "execution_count": 14
        }
      ]
    },
    {
      "cell_type": "code",
      "source": [
        "# 랭체인 허브에 있는 프롬프트 확인\n",
        "print(prompt.messages[0].prompt.template)\n",
        "input_template = prompt.messages[0].prompt.template"
      ],
      "metadata": {
        "colab": {
          "base_uri": "https://localhost:8080/"
        },
        "id": "g13DyluU_Yvs",
        "outputId": "82476049-7bc1-4480-f36a-10f84ff22ae6"
      },
      "execution_count": 15,
      "outputs": [
        {
          "output_type": "stream",
          "name": "stdout",
          "text": [
            "You are an assistant for question-answering tasks. Use the following pieces of retrieved context to answer the question. If you don't know the answer, just say that you don't know. Use three sentences maximum and keep the answer concise.\n",
            "Question: {question} \n",
            "Context: {context} \n",
            "Answer:\n"
          ]
        }
      ]
    },
    {
      "cell_type": "code",
      "source": [
        "prompt.messages"
      ],
      "metadata": {
        "colab": {
          "base_uri": "https://localhost:8080/"
        },
        "id": "7sLahkNGg4TO",
        "outputId": "e0c8e56b-c23c-46d3-97a5-9ccc6dd93eb9"
      },
      "execution_count": null,
      "outputs": [
        {
          "output_type": "execute_result",
          "data": {
            "text/plain": [
              "[HumanMessagePromptTemplate(prompt=PromptTemplate(input_variables=['context', 'question'], template=\"You are an assistant for question-answering tasks. Use the following pieces of retrieved context to answer the question. If you don't know the answer, just say that you don't know. Use three sentences maximum and keep the answer concise.\\nQuestion: {question} \\nContext: {context} \\nAnswer:\"))]"
            ]
          },
          "metadata": {},
          "execution_count": 12
        }
      ]
    },
    {
      "cell_type": "code",
      "source": [],
      "metadata": {
        "id": "96n6sC-FhVUz"
      },
      "execution_count": null,
      "outputs": []
    },
    {
      "cell_type": "markdown",
      "source": [
        "# RAG Chain 생성"
      ],
      "metadata": {
        "id": "siR28OjO35tb"
      }
    },
    {
      "cell_type": "code",
      "source": [
        "from langchain.callbacks.base import BaseCallbackHandler\n",
        "\n",
        "'''\n",
        "BaseCallbackHandler\n",
        "- 스트리밍 모드에서 모델이 생성하는 토큰을 실시간으로 처리하는 역할\n",
        "- 모델이 새로운 토큰을 생성할 때마다,토큰을 실시간으로 처리하거나 출력할 수 있게 한다.\n",
        "'''\n",
        "class StreamCallback(BaseCallbackHandler):\n",
        "    def on_llm_new_token(self, token: str, **kwargs):\n",
        "        print(token, end=\"\", flush=True)\n",
        "\n",
        "\n",
        "llm = ChatOpenAI(\n",
        "    # openai llm 모델 설정\n",
        "    model_name=\"gpt-4-turbo-preview\",\n",
        "    # temperature : 얼마나 답변을 자유롭게 하느냐,\n",
        "    # 0에 가까울 수록 정확하고 일관된 응답 : 코드 작성, 기술 문서 생성 task에 쓰임\n",
        "    # 1에 가까울 수록 창의적이고 다양한 응답 : 스토리 생성, 브레인스토밍 등\n",
        "    temperature=0,\n",
        "    streaming=True,\n",
        "    callbacks=[StreamCallback()], # StreamCallBack을 사용하여 실시간으로 모델의 출력을 볼 수 있게한다.\n",
        "    openai_api_key = os.environ[\"OPENAI_API_KEY\"]\n",
        ")\n",
        "\n",
        "\n",
        "def format_docs(docs):\n",
        "    # 검색한 문서 결과를 하나의 문단으로 합쳐줍니다.\n",
        "    return \"\\n\\n\".join(doc.page_content for doc in docs)\n",
        "\n",
        "\n",
        "# 체인을 생성합니다.\n",
        "'''\n",
        "retriever\n",
        "- 위에서 설정한 벡터 DB\n",
        "\n",
        "RunnablePassthrough()\n",
        "- invoke를 통해 사용자의 질의문을 전달\n",
        "\n",
        "prompt\n",
        "- 설정한 prompt\n",
        "\n",
        "llm\n",
        "- 설정한 llm\n",
        "\n",
        "StrOutputParser()\n",
        " - LLM의 출력물(응답 결과)을 파싱할 형식 지정\n",
        " - 출력이 정리되고, 불필요한 공백이나 정보가 제거되어 간결한 형태로 제공된다.\n",
        "\n",
        "'''\n",
        "rag_chain = (\n",
        "    {\"context\": retriever | format_docs, \"question\": RunnablePassthrough()}\n",
        "    | prompt\n",
        "    | llm\n",
        "    | StrOutputParser()\n",
        ")\n",
        "\n"
      ],
      "metadata": {
        "id": "r8SZESJA_pdi"
      },
      "execution_count": 16,
      "outputs": []
    },
    {
      "cell_type": "markdown",
      "source": [
        "# 검색"
      ],
      "metadata": {
        "id": "A6Egf6ov38CZ"
      }
    },
    {
      "cell_type": "code",
      "source": [
        "# rag_chain  객체의  invoke 메서드를 사용하여 사용자의 질문을 처리한다.\n",
        "single_query_answer = rag_chain.invoke(\n",
        "    \"신혼부부 안심주택이 뭐야?\"\n",
        ")  # 문서에 대한 질의를 입력하고, 답변을 출력합니다."
      ],
      "metadata": {
        "colab": {
          "base_uri": "https://localhost:8080/"
        },
        "id": "ap4IlPvGAEo1",
        "outputId": "9e9d1428-d8be-4f2c-db13-9edad6052425"
      },
      "execution_count": 17,
      "outputs": [
        {
          "output_type": "stream",
          "name": "stdout",
          "text": [
            "신혼부부 안심주택은 서울시가 신혼부부의 주거 부담을 해소하기 위해 공급하는 임대주택 모델로, 결혼 7년 이내의 신혼부부와 결혼 예정인 예비부부를 대상으로 합니다. 이 주택은 70%가 임대주택이고 30%가 분양주택으로 구성되며, 공공임대주택은 주변 시세의 50% 수준으로 공급됩니다. 신혼부부 맞춤형 공간과 서비스를 제공하며, 고급 빌트인 가전이 설치되고 역세권이나 간선도로변에 위치합니다."
          ]
        }
      ]
    },
    {
      "cell_type": "code",
      "source": [
        "print(rag_chain.invoke(\n",
        "    \"부영그룹은 출산 직원에게 얼마의 지원을 제공하나요?\"\n",
        ") )"
      ],
      "metadata": {
        "colab": {
          "base_uri": "https://localhost:8080/"
        },
        "id": "fim8uKzjeueg",
        "outputId": "c027cf11-7ab9-45b8-949a-40603d5489af"
      },
      "execution_count": null,
      "outputs": [
        {
          "output_type": "stream",
          "name": "stdout",
          "text": [
            "부영그룹은 출산 직원에게 1억원을 지원합니다. 2021년 이후 태어난 직원 자녀에게 이 지원금을 제공하며, 연년생이나 쌍둥이 자녀가 있을 경우 총 2억원을 받게 됩니다. 셋째 아이를 낳는 경우에는 국민주택을 제공하겠다는 계획도 밝혔습니다.부영그룹은 출산 직원에게 1억원을 지원합니다. 2021년 이후 태어난 직원 자녀에게 이 지원금을 제공하며, 연년생이나 쌍둥이 자녀가 있을 경우 총 2억원을 받게 됩니다. 셋째 아이를 낳는 경우에는 국민주택을 제공하겠다는 계획도 밝혔습니다.\n"
          ]
        }
      ]
    },
    {
      "cell_type": "code",
      "source": [
        "print(\n",
        "    rag_chain.invoke(\"정부가 신혼부부를 대상으로 발표한 대책을 bullet points 형식으로 작성해 주세요.\")\n",
        ")  # 문서에 대한 질의를 입력하고, 답변을 출력합니다."
      ],
      "metadata": {
        "colab": {
          "base_uri": "https://localhost:8080/"
        },
        "id": "8SdEPjbLASIy",
        "outputId": "9fee6146-a72e-433e-c1e3-47c5a13df910"
      },
      "execution_count": 18,
      "outputs": [
        {
          "output_type": "stream",
          "name": "stdout",
          "text": [
            "- 장기전세주택 2 정책: 서울시는 신혼부부 대상으로 '올림픽파크포레온' 등의 장기전세주택을 공급하며, 무주택 세대원으로 구성된 신혼부부(혼인신고일로부터 7년 이내 또는 6개월 이내 혼인신고 예정)가 대상이다.\n",
            "- 신혼부부 안심주택: 결혼 7년 이내 신혼부부 및 결혼 예정 예비부부 대상으로, 70%는 임대, 30%는 분양주택으로 구성되며, 주변 시세의 50% 수준으로 공급된다. 신혼부부 맞춤형 공간과 고급 빌트인 가전이 제공되며, 위치는 역세권 또는 간선도로변에 건립된다.\n",
            "- 장기전세주택 2와 신혼부부용 안심주택을 통해 연평균 4000가구 공급 예정, 무자녀 신혼부부도 입주 가능하며, 자녀 출산 시 재계약 소득 기준 완화 및 우선매수청구권 부여 등의 인센티브가 제공된다.- 장기전세주택 2 정책: 서울시는 신혼부부 대상으로 '올림픽파크포레온' 등의 장기전세주택을 공급하며, 무주택 세대원으로 구성된 신혼부부(혼인신고일로부터 7년 이내 또는 6개월 이내 혼인신고 예정)가 대상이다.\n",
            "- 신혼부부 안심주택: 결혼 7년 이내 신혼부부 및 결혼 예정 예비부부 대상으로, 70%는 임대, 30%는 분양주택으로 구성되며, 주변 시세의 50% 수준으로 공급된다. 신혼부부 맞춤형 공간과 고급 빌트인 가전이 제공되며, 위치는 역세권 또는 간선도로변에 건립된다.\n",
            "- 장기전세주택 2와 신혼부부용 안심주택을 통해 연평균 4000가구 공급 예정, 무자녀 신혼부부도 입주 가능하며, 자녀 출산 시 재계약 소득 기준 완화 및 우선매수청구권 부여 등의 인센티브가 제공된다.\n"
          ]
        }
      ]
    },
    {
      "cell_type": "markdown",
      "source": [
        "# Multi Query Retriever 활용"
      ],
      "metadata": {
        "id": "gqyfhP2opamE"
      }
    },
    {
      "cell_type": "code",
      "source": [
        "# 멀티 쿼리 리트리버 활용\n",
        "mqr_retriever = MultiQueryRetriever.from_llm(\n",
        "    retriever=vectorstore.as_retriever(), llm=llm\n",
        ")\n",
        "\n",
        "\n",
        "# 체인을 생성합니다.\n",
        "rag_chain = (\n",
        "    {\"context\": mqr_retriever | format_docs, \"question\": RunnablePassthrough()}\n",
        "    | prompt\n",
        "    | llm\n",
        "    | StrOutputParser()\n",
        ")"
      ],
      "metadata": {
        "collapsed": true,
        "id": "YfZErGgQBXnT"
      },
      "execution_count": null,
      "outputs": []
    },
    {
      "cell_type": "code",
      "source": [
        "# multiqueryretriever이 질문을 어떻게 재생성하는지 확인\n",
        "import logging\n",
        "\n",
        "logging.basicConfig()\n",
        "logging.getLogger(\"langchain.retrievers.multi_query\").setLevel(logging.INFO)"
      ],
      "metadata": {
        "id": "c7uhB5oBCdXZ"
      },
      "execution_count": null,
      "outputs": []
    },
    {
      "cell_type": "code",
      "source": [
        "question = \"신혼부부 안심주택이 뭐야?\"\n",
        "multi_query_answer = rag_chain.invoke(question)\n",
        "\n"
      ],
      "metadata": {
        "colab": {
          "base_uri": "https://localhost:8080/"
        },
        "id": "p_QDYYcHCfTZ",
        "outputId": "3e29df97-cb92-4d3f-cc2d-f3c82e1d22ab"
      },
      "execution_count": null,
      "outputs": [
        {
          "output_type": "stream",
          "name": "stdout",
          "text": [
            "신혼부부를 위한 안심주택 제도에 대해 설명해 줄 수 있나요?\n",
            "\n",
            "신혼부부 안심주택 프로그램의 자격 요건과 혜택은 무엇인가요?\n",
            "\n",
            "신혼부부 안심주택에 관한 정보를 어디서 찾을 수 있나요?"
          ]
        },
        {
          "output_type": "stream",
          "name": "stderr",
          "text": [
            "INFO:langchain.retrievers.multi_query:Generated queries: ['신혼부부를 위한 안심주택 제도에 대해 설명해 줄 수 있나요?', '', '신혼부부 안심주택 프로그램의 자격 요건과 혜택은 무엇인가요?', '', '신혼부부 안심주택에 관한 정보를 어디서 찾을 수 있나요?']\n"
          ]
        },
        {
          "output_type": "stream",
          "name": "stdout",
          "text": [
            "신혼부부 안심주택은 서울시가 신혼부부의 주거 부담을 해소하기 위해 도입한 새로운 임대주택 모델입니다. 이 주택은 결혼 7년 이내의 신혼부부와 결혼 예정인 예비부부를 대상으로 하며, 70%는 임대로, 30%는 분양으로 구성됩니다. 공공임대주택은 주변 시세의 50% 수준으로 공급되며, 신혼부부 맞춤형 공간과 서비스가 제공됩니다."
          ]
        }
      ]
    },
    {
      "cell_type": "markdown",
      "source": [
        "## Single Query 와 Multi Query Retriever 검색 및 응답 결과 비교"
      ],
      "metadata": {
        "id": "_kUJSlJFykGA"
      }
    },
    {
      "cell_type": "code",
      "source": [
        "print('단일 쿼리 검색 결과:')\n",
        "print(single_query_answer)\n",
        "print()\n",
        "print('멀티 쿼리 검색 결과:')\n",
        "print(multi_query_answer)\n"
      ],
      "metadata": {
        "colab": {
          "base_uri": "https://localhost:8080/"
        },
        "id": "IMu2r_1HGBrg",
        "outputId": "83b3394f-6363-43f7-fa38-578e2644124a"
      },
      "execution_count": null,
      "outputs": [
        {
          "output_type": "stream",
          "name": "stdout",
          "text": [
            "단일 쿼리 검색 결과:\n",
            "신혼부부 안심주택은 서울시가 신혼부부의 주거 부담을 줄이기 위해 도입한 새로운 임대주택 모델입니다. 이 모델은 결혼 7년 이내의 신혼부부와 결혼 예정인 예비부부를 대상으로 하며, 70%는 임대주택으로, 30%는 분양주택으로 구성됩니다. 공공임대주택은 주변 시세의 50% 수준으로 공급되며, 신혼부부 맞춤형 공간과 서비스가 제공됩니다.\n",
            "\n",
            "멀티 쿼리 검색 결과:\n",
            "신혼부부 안심주택은 서울시가 신혼부부의 주거 부담을 해소하기 위해 도입한 새로운 임대주택 모델입니다. 이 주택은 결혼 7년 이내의 신혼부부와 결혼 예정인 예비부부를 대상으로 하며, 70%는 임대로, 30%는 분양으로 구성됩니다. 공공임대주택은 주변 시세의 50% 수준으로 공급되며, 신혼부부 맞춤형 공간과 서비스가 제공됩니다.\n"
          ]
        }
      ]
    },
    {
      "cell_type": "code",
      "source": [
        "single_query_answer"
      ],
      "metadata": {
        "id": "NAR_AIo3xCGD",
        "colab": {
          "base_uri": "https://localhost:8080/",
          "height": 54
        },
        "outputId": "4a205bd1-d928-4d3a-f70f-f10515d85fa7"
      },
      "execution_count": null,
      "outputs": [
        {
          "output_type": "execute_result",
          "data": {
            "text/plain": [
              "'신혼부부 안심주택은 서울시가 신혼부부의 주거 부담을 줄이기 위해 도입한 새로운 임대주택 모델입니다. 이 모델은 결혼 7년 이내의 신혼부부와 결혼 예정인 예비부부를 대상으로 하며, 70%는 임대주택으로, 30%는 분양주택으로 구성됩니다. 공공임대주택은 주변 시세의 50% 수준으로 공급되며, 신혼부부 맞춤형 공간과 서비스가 제공됩니다.'"
            ],
            "application/vnd.google.colaboratory.intrinsic+json": {
              "type": "string"
            }
          },
          "metadata": {},
          "execution_count": 20
        }
      ]
    },
    {
      "cell_type": "code",
      "source": [
        "multi_query_answer"
      ],
      "metadata": {
        "id": "4mHUnVsRXGMI",
        "outputId": "62cd31bf-ba9f-4b48-9ff7-57a242bda38a",
        "colab": {
          "base_uri": "https://localhost:8080/",
          "height": 54
        }
      },
      "execution_count": null,
      "outputs": [
        {
          "output_type": "execute_result",
          "data": {
            "text/plain": [
              "'신혼부부 안심주택은 서울시가 신혼부부의 주거 부담을 해소하기 위해 도입한 새로운 임대주택 모델입니다. 이 주택은 결혼 7년 이내의 신혼부부와 결혼 예정인 예비부부를 대상으로 하며, 70%는 임대로, 30%는 분양으로 구성됩니다. 공공임대주택은 주변 시세의 50% 수준으로 공급되며, 신혼부부 맞춤형 공간과 서비스가 제공됩니다.'"
            ],
            "application/vnd.google.colaboratory.intrinsic+json": {
              "type": "string"
            }
          },
          "metadata": {},
          "execution_count": 21
        }
      ]
    },
    {
      "cell_type": "code",
      "source": [
        "# Run\n",
        "retriever = MultiQueryRetriever(\n",
        "    retriever=vectordb.as_retriever(), llm_chain=llm_chain, parser_key=\"lines\"\n",
        ")  # \"lines\" is the key (attribute name) of the parsed output\n",
        "\n",
        "# Results\n",
        "unique_docs = retriever.invoke(query=\"What does the course say about regression?\")\n",
        "len(unique_docs)"
      ],
      "metadata": {
        "id": "DO7Yr6BECfPJ"
      },
      "execution_count": null,
      "outputs": []
    },
    {
      "cell_type": "code",
      "source": [
        "# 컬렉션을 삭제합니다.\n",
        "vectorstore.delete_collection()"
      ],
      "metadata": {
        "id": "CeUDH9gWAV1L"
      },
      "execution_count": null,
      "outputs": []
    }
  ]
}